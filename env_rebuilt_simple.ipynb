{
 "cells": [
  {
   "cell_type": "code",
   "execution_count": 8,
   "metadata": {},
   "outputs": [
    {
     "ename": "NameError",
     "evalue": "name 'AbstractEnv' is not defined",
     "output_type": "error",
     "traceback": [
      "\u001b[0;31m\u001b[0m",
      "\u001b[0;31mNameError\u001b[0mTraceback (most recent call last)",
      "\u001b[0;32m<ipython-input-8-4273b8030516>\u001b[0m in \u001b[0;36m<module>\u001b[0;34m()\u001b[0m\n\u001b[1;32m     15\u001b[0m     }\n\u001b[1;32m     16\u001b[0m )\n\u001b[0;32m---> 17\u001b[0;31m \u001b[0;32mclass\u001b[0m \u001b[0mSpreadTrading\u001b[0m\u001b[0;34m(\u001b[0m\u001b[0mAbstractEnv\u001b[0m\u001b[0;34m)\u001b[0m\u001b[0;34m:\u001b[0m\u001b[0;34m\u001b[0m\u001b[0m\n\u001b[0m\u001b[1;32m     18\u001b[0m \u001b[0;34m\u001b[0m\u001b[0m\n\u001b[1;32m     19\u001b[0m     \u001b[0;32mdef\u001b[0m \u001b[0mstep\u001b[0m\u001b[0;34m(\u001b[0m\u001b[0mself\u001b[0m\u001b[0;34m,\u001b[0m \u001b[0maction\u001b[0m\u001b[0;34m)\u001b[0m\u001b[0;34m:\u001b[0m\u001b[0;34m\u001b[0m\u001b[0m\n",
      "\u001b[0;31mNameError\u001b[0m: name 'AbstractEnv' is not defined"
     ]
    }
   ],
   "source": [
    "import matplotlib as mpl\n",
    "import matplotlib.pyplot as plt\n",
    "import numpy as np\n",
    "from tgym.core import Env, DataGenerator \n",
    "import pandas as pd\n",
    "from sklearn.preprocessing import StandardScaler\n",
    "import random\n",
    "\n",
    "mpl.rcParams.update(\n",
    "    {\n",
    "        \"font.size\": 15,\n",
    "        \"axes.labelsize\": 15,\n",
    "        \"lines.linewidth\": 1,\n",
    "        \"lines.markersize\": 8\n",
    "    }\n",
    ")\n",
    "class SpreadTrading_simple(AbstractEnv):\n",
    "     \n",
    "    def step(self, action):\n",
    "        self._params['action'] = action\n",
    "        self._params['history_action'].append(self._params['action'])\n",
    "        done = False\n",
    "        Return = 0\n",
    "#         print 'action :',self._params['action'],         \n",
    "#         print 'price_history :',self._params['price_history'],\n",
    "#         print 'observation0 :',self._params['observation'][0],\n",
    "#         print 'observation1 :',self._params['observation'][1],\n",
    "        #++++++++++++++++++++++++++++++++++++++++++++++++++++++++++++++++++++++++++++++++++++++++++++++++++\n",
    "        self._params['iteration'] += 1\n",
    "        if self._params['iteration'] <= len(self._params['data']):\n",
    "            self._params['history_data'] = self.gen_data( self._params['data'], self._params['iteration'] )\n",
    "            self._params['price_history'] = self._params['history_data'][self._params['price_col']].tolist()\n",
    "            Return_list = [( i - self._params['price_history'][-2] ) / self._params['price_history'][-2] for i in self._params['observation'][1]]\n",
    "#             print(self._params['reward_gamma'],Return_list)\n",
    "            weighted_return = self.reward_function(Return_list, self._params['reward_gamma'])\n",
    "            if self._params['action'] == self._actions['buy']:\n",
    "                if self._params['position'] < self._params['max_position'] : \n",
    "                    Return += weighted_return\n",
    "                    Return += -1*self._params['trading_fee']\n",
    "                    self._params['position'] += self._params['min_buy_position']\n",
    "                    self._params['buy_price'] = self._params['price_history'][-2]                    \n",
    "                else :\n",
    "                    Return += -1*self._params['trading_fee']\n",
    "                \n",
    "            elif self._params['action'] == self._actions['hold']:\n",
    "                if self._params['position'] == 0 :\n",
    "                    Return = 0\n",
    "                else:\n",
    "                    Return += weighted_return\n",
    "                    Return += -1*((1+self._params['time_fee'])**len(Return_list)-1)\n",
    "\n",
    "            elif self._params['action'] == self._actions['sell']:\n",
    "                if self._params['position'] == 0 : \n",
    "                    Return += -1*self._params['trading_fee']\n",
    "                else :\n",
    "                    Return += -1*weighted_return\n",
    "                    Return += (1+self._params['time_fee'])**len(Return_list)-1\n",
    "                    self._params['sell_price'] = self._params['price_history'][-2]\n",
    "                    real_return = (self._params['sell_price'] - self._params['buy_price']) / self._params['buy_price'] - self._params['trading_fee']\n",
    "                    self._params['accumulate_return'] = (real_return + 1) * (self._params['accumulate_return'] + 1) - 1 \n",
    "                    self._params['position'] = 0\n",
    "\n",
    "        self._params['done'], self._params['info'] = self.stop_condition()  \n",
    "        if self._params['done'] :\n",
    "            self._params['benchmark_sell_price'] = self._params['history_data'].tail(1)[self._params['price_col']].values[0]\n",
    "            self._params['sell_price'] = self._params['price_history'][-1]\n",
    "            self._params['benchmark_accumulate_return'] = \\\n",
    "            ( self._params['benchmark_sell_price'] - self._params['benchmark_buy_price'] ) / self._params['benchmark_buy_price'] - self._params['trading_fee']\n",
    "            if (self._params['position'] > 0):\n",
    "                real_return = (self._params['sell_price'] - self._params['buy_price']) / self._params['buy_price'] - self._params['trading_fee']\n",
    "                self._params['accumulate_return'] = (real_return + 1) * (self._params['accumulate_return'] + 1) - 1 \n",
    "#             print self._params['benchmark_buy_price'],self._params['benchmark_sell_price']\n",
    "#             print 'benchmark_accumulate_return :',self._params['benchmark_accumulate_return']\n",
    "        else:\n",
    "            self._params['observation'] = self._get_observation()  \n",
    "        self._params['accumulate_return_list'].append(self._params['accumulate_return'])\n",
    "        self._params['reward_list'].append(Return*self._params['reward_scale'])\n",
    "#         print 'Return :', Return, \n",
    "#         print 'done :', done\n",
    "#         print 'accumulate_return :',self._params['accumulate_return']\n",
    "#         print '========================================================'\n",
    "\n",
    "        return self._params['observation'][0], Return*self._params['reward_scale'], self._params['done'], self._params['info']"
   ]
  },
  {
   "cell_type": "code",
   "execution_count": null,
   "metadata": {},
   "outputs": [],
   "source": []
  }
 ],
 "metadata": {
  "kernelspec": {
   "display_name": "Python 2",
   "language": "python",
   "name": "python2"
  },
  "language_info": {
   "codemirror_mode": {
    "name": "ipython",
    "version": 2
   },
   "file_extension": ".py",
   "mimetype": "text/x-python",
   "name": "python",
   "nbconvert_exporter": "python",
   "pygments_lexer": "ipython2",
   "version": "2.7.12"
  },
  "varInspector": {
   "cols": {
    "lenName": 16,
    "lenType": 16,
    "lenVar": 40
   },
   "kernels_config": {
    "python": {
     "delete_cmd_postfix": "",
     "delete_cmd_prefix": "del ",
     "library": "var_list.py",
     "varRefreshCmd": "print(var_dic_list())"
    },
    "r": {
     "delete_cmd_postfix": ") ",
     "delete_cmd_prefix": "rm(",
     "library": "var_list.r",
     "varRefreshCmd": "cat(var_dic_list()) "
    }
   },
   "types_to_exclude": [
    "module",
    "function",
    "builtin_function_or_method",
    "instance",
    "_Feature"
   ],
   "window_display": false
  }
 },
 "nbformat": 4,
 "nbformat_minor": 2
}
