{
 "cells": [
  {
   "cell_type": "code",
   "execution_count": 1,
   "metadata": {},
   "outputs": [
    {
     "name": "stderr",
     "output_type": "stream",
     "text": [
      "Using TensorFlow backend.\n"
     ]
    },
    {
     "ename": "NameError",
     "evalue": "name 'DQNAgent' is not defined",
     "output_type": "error",
     "traceback": [
      "\u001b[0;31m\u001b[0m",
      "\u001b[0;31mNameError\u001b[0mTraceback (most recent call last)",
      "\u001b[0;32m<ipython-input-1-ff6dc98f01a0>\u001b[0m in \u001b[0;36m<module>\u001b[0;34m()\u001b[0m\n\u001b[1;32m     10\u001b[0m \u001b[0;32mfrom\u001b[0m \u001b[0mkeras\u001b[0m\u001b[0;34m.\u001b[0m\u001b[0mutils\u001b[0m\u001b[0;34m.\u001b[0m\u001b[0mvis_utils\u001b[0m \u001b[0;32mimport\u001b[0m \u001b[0mmodel_to_dot\u001b[0m\u001b[0;34m\u001b[0m\u001b[0m\n\u001b[1;32m     11\u001b[0m \u001b[0;32mfrom\u001b[0m \u001b[0mrl\u001b[0m\u001b[0;34m.\u001b[0m\u001b[0mcallbacks\u001b[0m \u001b[0;32mimport\u001b[0m \u001b[0mModelIntervalCheckpoint\u001b[0m\u001b[0;34m\u001b[0m\u001b[0m\n\u001b[0;32m---> 12\u001b[0;31m \u001b[0;32mclass\u001b[0m \u001b[0mDRL\u001b[0m\u001b[0;34m(\u001b[0m\u001b[0mDQNAgent\u001b[0m\u001b[0;34m)\u001b[0m\u001b[0;34m:\u001b[0m\u001b[0;34m\u001b[0m\u001b[0m\n\u001b[0m\u001b[1;32m     13\u001b[0m     \u001b[0;32mdef\u001b[0m \u001b[0m__init__\u001b[0m\u001b[0;34m(\u001b[0m\u001b[0mself\u001b[0m\u001b[0;34m,\u001b[0m \u001b[0mhistory_length\u001b[0m\u001b[0;34m,\u001b[0m \u001b[0mtime_var\u001b[0m\u001b[0;34m,\u001b[0m \u001b[0mtime_data_length\u001b[0m\u001b[0;34m,\u001b[0m \u001b[0mnot_time_data_length\u001b[0m\u001b[0;34m,\u001b[0m \u001b[0mnb_actions\u001b[0m\u001b[0;34m,\u001b[0m \u001b[0mfile_nm\u001b[0m\u001b[0;34m=\u001b[0m\u001b[0mNone\u001b[0m\u001b[0;34m,\u001b[0m \u001b[0mvisualize\u001b[0m\u001b[0;34m=\u001b[0m\u001b[0mFalse\u001b[0m\u001b[0;34m)\u001b[0m\u001b[0;34m:\u001b[0m\u001b[0;34m\u001b[0m\u001b[0m\n\u001b[1;32m     14\u001b[0m \u001b[0;34m\u001b[0m\u001b[0m\n",
      "\u001b[0;31mNameError\u001b[0m: name 'DQNAgent' is not defined"
     ]
    }
   ],
   "source": [
    "import graphviz\n",
    "import tensorflow as tf \n",
    "from keras.models import Sequential, Model\n",
    "from keras.layers import *\n",
    "from keras.optimizers import Adam\n",
    "from rl.memory import SequentialMemory\n",
    "from rl.policy import LinearAnnealedPolicy, BoltzmannQPolicy, EpsGreedyQPolicy, BoltzmannGumbelQPolicy, GreedyQPolicy\n",
    "from keras.callbacks import TensorBoard\n",
    "from IPython.display import SVG \n",
    "from keras.utils.vis_utils import model_to_dot\n",
    "from rl.callbacks import ModelIntervalCheckpoint\n",
    "class DRL(DQNAgent):\n",
    "    def __init__(self, history_length, time_var, time_data_length, not_time_data_length, nb_actions, file_nm=None, visualize=False):\n",
    "\n",
    "        self._history_length = history_length\n",
    "        self.time_var = time_var\n",
    "        self._time_data_length = time_data_length\n",
    "        self._not_time_data_length = not_time_data_length\n",
    "        self._nb_actions = nb_actions\n",
    "        self._visualize = visualize\n",
    "        self._file_nm = file_nm\n",
    "#         config = tf.ConfigProto( gpu_options = tf.GPUOptions(per_process_gpu_memory_fraction = 0.20))\n",
    "        config = tf.ConfigProto( gpu_options = tf.GPUOptions(allow_growth=True))\n",
    "        session = tf.Session(config=config)\n",
    "#         self.call1 = TensorBoard(log_dir='./Graph', histogram_freq=0, write_graph=True, write_images=True)\n",
    "        if self._file_nm:\n",
    "#             self.call2 = ModelCheckByTrainAccRe(filepath=file_nm + '_{month_return_diff:.5f}.h5', \n",
    "#                                             monitor='month_return_diff', verbose=2, mode='max',min_save_length=4000)\n",
    "#             self.call2 = Earlystop(filepath=self._file_nm + '_{accumulate_return:.5f}.h5',patience=2)\n",
    "#             self.call2 = Earlystop()\n",
    "            self.call3 = TrainEpisodeLogger(filepath=self._file_nm+ '.csv')\n",
    "#             self.call4 = ModelIntervalCheckpoint(filepath=file_nm+'_{step}'+'.h5', interval=50000, verbose=1)\n",
    "    def NN_model(self):\n",
    "#         if self._not_time_data_length>2:\n",
    "        input_shape = (1,self._time_data_length+self._not_time_data_length)\n",
    "        input_sq = Input(shape=input_shape)\n",
    "        x1 = Lambda(split_data,arguments={'index':[0,self._time_data_length]})(input_sq)\n",
    "        x1 = Reshape((self.time_var,self._history_length))(x1)\n",
    "        x1 = Permute((2,1))(x1)\n",
    "        x1 = CuDNNGRU(32, return_sequences=True)(x1)\n",
    "        x1 = CuDNNGRU(16, return_sequences=False)(x1)\n",
    "        x2 = Lambda(split_data,arguments={'index':[self._time_data_length,self._time_data_length+self._not_time_data_length]})(input_sq)\n",
    "        x2 = Flatten()(x2)\n",
    "        x2 = Dense(32, activation='selu')(x2)\n",
    "        x2 = Dense(16, activation='selu')(x2)            \n",
    "        x3 = Lambda(split_data,arguments={'index':[self._time_data_length,self._time_data_length+2]})(input_sq)\n",
    "        x3 = Flatten()(x3)\n",
    "        m1 = Concatenate(axis=1)([x1,x2]) \n",
    "        m1 = Dense(32, activation='selu')(m1)\n",
    "        m1 = Dense(16, activation='selu')(m1)\n",
    "        m1 = Dense(8, activation='selu')(m1)\n",
    "        m1 = Concatenate(axis=1)([m1,x3]) \n",
    "        m1 = Dense(self._nb_actions, activation='linear')(m1)\n",
    "        model = Model(input_sq, m1)\n",
    "#             model.summary()\n",
    "#         else :\n",
    "#             input_shape = (1,self._time_data_length+self._not_time_data_length)\n",
    "#             input_sq = Input(shape=input_shape)\n",
    "#             x1 = Lambda(split_data,arguments={'index':[0,self._time_data_length]})(input_sq)\n",
    "#             x1 = Reshape((self.time_var,self._history_length))(x1)\n",
    "#             x1 = Permute((2,1))(x1)\n",
    "#             x1 = CuDNNGRU(32, return_sequences=True)(x1)\n",
    "#             x1 = CuDNNGRU(16, return_sequences=False)(x1)\n",
    "#             x3 = Lambda(split_data,arguments={'index':[self._time_data_length-1,self._time_data_length+1]})(input_sq)\n",
    "#             x3 = Flatten()(x3) \n",
    "#             m1 = Dense(32, activation='selu')(x1)\n",
    "#             m1 = Dense(16, activation='selu')(m1)\n",
    "#             m1 = Dense(8, activation='selu')(m1)\n",
    "#             m1 = Concatenate(axis=1)([m1,x3]) \n",
    "#             m1 = Dense(self._nb_actions, activation='linear')(m1)\n",
    "#             model = Model(input_sq, m1)\n",
    "#             model.summary()\n",
    "        return model\n",
    "    \n",
    "    def visualize_model(self):\n",
    "        return SVG(model_to_dot(self.NN_model(),show_shapes=True).create(prog='dot', format='svg'))\n",
    "      \n",
    "    def RL_method(self, env, check_env, step, memory_length, policy, nb_steps_warmup, batch_size, gamma, \n",
    "                  target_model_update,train_interval,alpha,beta,beta_annealed, reword_step=1):\n",
    "        #memory = SequentialMemory(limit=memory_length, window_length=1)\n",
    "        memory = PrioritizedMemory(limit=memory_length, alpha=alpha, start_beta=beta, end_beta=1., steps_annealed=beta_annealed, window_length=1)\n",
    "        dqn = DQNAgent(model=self.NN_model(), nb_actions=self._nb_actions, memory=memory, nb_steps_warmup=nb_steps_warmup,\n",
    "                       batch_size=batch_size, gamma=gamma, enable_dueling_network=True, dueling_type='avg',\n",
    "                       target_model_update=target_model_update, policy=policy,train_interval=train_interval)\n",
    "        dqn.compile(Adam(lr=1e-3), metrics=['mae'])\n",
    "        if self._file_nm:\n",
    "            dqn.fit(env,check_env, file_nm=self._file_nm + '_{}.h5', patience=6,check_interval=500 ,\\\n",
    "                    nb_steps=step, visualize=False, verbose=2,callbacks=[self.call3])\n",
    "#             dqn.save_weights(save_nm, overwrite=True)\n",
    "        return dqn\n",
    "    "
   ]
  },
  {
   "cell_type": "code",
   "execution_count": null,
   "metadata": {},
   "outputs": [],
   "source": []
  }
 ],
 "metadata": {
  "kernelspec": {
   "display_name": "Python 2",
   "language": "python",
   "name": "python2"
  },
  "language_info": {
   "codemirror_mode": {
    "name": "ipython",
    "version": 2
   },
   "file_extension": ".py",
   "mimetype": "text/x-python",
   "name": "python",
   "nbconvert_exporter": "python",
   "pygments_lexer": "ipython2",
   "version": "2.7.12"
  },
  "varInspector": {
   "cols": {
    "lenName": 16,
    "lenType": 16,
    "lenVar": 40
   },
   "kernels_config": {
    "python": {
     "delete_cmd_postfix": "",
     "delete_cmd_prefix": "del ",
     "library": "var_list.py",
     "varRefreshCmd": "print(var_dic_list())"
    },
    "r": {
     "delete_cmd_postfix": ") ",
     "delete_cmd_prefix": "rm(",
     "library": "var_list.r",
     "varRefreshCmd": "cat(var_dic_list()) "
    }
   },
   "types_to_exclude": [
    "module",
    "function",
    "builtin_function_or_method",
    "instance",
    "_Feature"
   ],
   "window_display": false
  }
 },
 "nbformat": 4,
 "nbformat_minor": 2
}
