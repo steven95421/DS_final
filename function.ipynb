{
 "cells": [
  {
   "cell_type": "code",
   "execution_count": 1,
   "metadata": {},
   "outputs": [],
   "source": [
    "def accumulate_return_to_month(step, accumulate_return):\n",
    "    return (accumulate_return+1.)**(1./step) - 1. "
   ]
  },
  {
   "cell_type": "code",
   "execution_count": 120,
   "metadata": {},
   "outputs": [],
   "source": [
    "def summary_investment(price_list, position_list, trading_fee, outer_trading_fee=True):\n",
    "    price_list = [float(i) for i in price_list]\n",
    "    position_list = [float(i) for i in position_list]\n",
    "    accumulate_return = 0\n",
    "    enter_times = 0\n",
    "    hold_times = 0\n",
    "    buy_price = 0\n",
    "    average_buy_price = 0\n",
    "    sell_price = 0    \n",
    "    volatility_list = []\n",
    "    total_cost = 0\n",
    "    over_buy_price_times = 0\n",
    "    total_profit = 0\n",
    "    Return = 0\n",
    "    cost = 0\n",
    "    for i in range(len(price_list)):\n",
    "        if i==0 and position_list[i]!=0:\n",
    "            buy_price = price_list[i]\n",
    "            average_buy_price = buy_price\n",
    "            if outer_trading_fee :\n",
    "                cost = buy_price*position_list[i]*(1+trading_fee)\n",
    "            else :\n",
    "                cost = buy_price*position_list[i]/(1-trading_fee)\n",
    "            total_cost += cost\n",
    "            total_profit -= cost\n",
    "            enter_times += 1\n",
    "        elif position_list[i] > position_list[i-1]:\n",
    "            #buy\n",
    "            buy_price = price_list[i]\n",
    "            diff_position = position_list[i]-position_list[i-1]\n",
    "            if outer_trading_fee :\n",
    "                cost = buy_price*diff_position*(1+trading_fee)\n",
    "            else :\n",
    "                cost = buy_price*diff_position/(1-trading_fee)       \n",
    "            total_cost += cost\n",
    "            total_profit -= cost\n",
    "            average_buy_price = total_cost/position_list[i]\n",
    "            enter_times += 1\n",
    "        elif position_list[i] < position_list[i-1]:\n",
    "            #sell\n",
    "            sell_price = price_list[i]\n",
    "            diff_position = position_list[i-1]-position_list[i]\n",
    "            total_profit += sell_price*diff_position\n",
    "#             Return = (sell_price-average_buy_price)/(average_buy_price) - trading_fee\n",
    "#             Return = total_profit / float(total_cost)\n",
    "#             accumulate_return = (accumulate_return+1)*(Return+1)-1\n",
    "#             total_cost = 0\n",
    "\n",
    "        if i!=len(price_list)-1 and position_list[i]!=0:\n",
    "            if price_list[i+1]>average_buy_price :\n",
    "                over_buy_price_times += 1\n",
    "            hold_times += 1\n",
    "            volatility_list.append(price_list[i+1] / price_list[i]-1)\n",
    "        elif i!=len(price_list)-1 and position_list[i]==0 :\n",
    "            volatility_list.append(0)\n",
    "#         print total_profit\n",
    "#         print price_list[i],buy_price,average_buy_price,sell_price,Return,accumulate_return,enter_times,hold_times,over_buy_price_times\n",
    "#     print volatility_list,np.std(volatility_list,ddof=1)\n",
    "    accumulate_return = total_profit/float(total_cost)\n",
    "    if hold_times !=0:\n",
    "        over_buy_price_prob = over_buy_price_times/float(hold_times)\n",
    "    else:\n",
    "        over_buy_price_prob = np.nan\n",
    "    volatility = np.std(volatility_list,ddof=1)\n",
    "    volatility_down_side = np.std([i if i<0 else 0 for i in volatility_list],ddof=1)\n",
    "    if volatility != 0:\n",
    "        sharpe = accumulate_return/volatility\n",
    "    else :\n",
    "        sharpe = 0\n",
    "\n",
    "    reslut_dict = {'accumulate_return':accumulate_return,\n",
    "                   'total_profit':total_profit,\n",
    "                   'enter_times':enter_times,\n",
    "                   'over_buy_price_prob':over_buy_price_prob,\n",
    "                   'hold_times':hold_times,\n",
    "                   'volatility':volatility,\n",
    "                   'volatility_down_side':volatility_down_side,\n",
    "                   'sharpe':sharpe}\n",
    "    return reslut_dict"
   ]
  },
  {
   "cell_type": "code",
   "execution_count": 85,
   "metadata": {},
   "outputs": [],
   "source": [
    "def trend (price, predict_months_price, threshold, noise ) :\n",
    "    if np.isnan(predict_months_price).any() : \n",
    "        return np.nan\n",
    "    else:\n",
    "        trend_ans = [(i-price)/float(price) > threshold for i in predict_months_price] \n",
    "        if noise :\n",
    "            #1:有改變,0:沒改變\n",
    "            noise_list = [np.random.binomial(1, i) for i in noise]\n",
    "            trend = [ (trend_ans[i] + noise_list[i])%2 for i in range(len(trend_ans))]\n",
    "        else:\n",
    "            trend = trend_ans\n",
    "        trend = [-1 if i==0 else 1 for i in trend]\n",
    "        return trend"
   ]
  },
  {
   "cell_type": "code",
   "execution_count": 108,
   "metadata": {},
   "outputs": [],
   "source": [
    "def trend_normal_random (price, predict_months_price, threshold, noise ) :\n",
    "    if np.isnan(predict_months_price).any() : \n",
    "        return np.nan\n",
    "    else:\n",
    "        trend_ans = [(i-price)/float(price) > threshold for i in predict_months_price] \n",
    "        if noise :\n",
    "            #1:有改變,0:沒改變\n",
    "            simulate_noise = [np.random.normal(loc=i[0],scale=i[1]) for i in noise]\n",
    "#             print simulate_noise\n",
    "            simulate_noise = [0 if i<0 else 1 if i>1 else i for i in simulate_noise]\n",
    "#             print simulate_noise\n",
    "#             print trend_ans\n",
    "            noise_list = [np.random.binomial(1, i) for i in simulate_noise]\n",
    "            trend = [ (trend_ans[i] + noise_list[i])%2 for i in range(len(trend_ans))]\n",
    "        else:\n",
    "            trend = trend_ans\n",
    "        trend = [-1 if i==0 else 1 for i in trend]\n",
    "        return trend    "
   ]
  },
  {
   "cell_type": "code",
   "execution_count": 2,
   "metadata": {},
   "outputs": [],
   "source": [
    "# def data_row_gap(data,gap,miss_fill='ffill'):\n",
    "#     return data.replace(0, np.nan).fillna(method='ffill')[::gap]"
   ]
  },
  {
   "cell_type": "code",
   "execution_count": 3,
   "metadata": {},
   "outputs": [],
   "source": [
    "def split_train_test_data(data, start_pre_date=None, history_length=None, trend_months=None):\n",
    "    if trend_months is None:\n",
    "        train_data=data.loc[data.tx_month<start_pre_date].reset_index(drop=True)\n",
    "        test_data=data[data.loc[data.tx_month>=start_pre_date].index[0]-(history_length-1):].reset_index(drop=True)\n",
    "    else:\n",
    "        train_data=data.loc[data.tx_month<future_date(start_pre_date, [max(trend_months)])[0]].reset_index(drop=True)\n",
    "        test_data=data[data.loc[data.tx_month>=start_pre_date].index[0]-(history_length-1):].reset_index(drop=True)\n",
    "    return train_data,test_data"
   ]
  },
  {
   "cell_type": "code",
   "execution_count": 4,
   "metadata": {},
   "outputs": [],
   "source": [
    "def future_date(date, future_month):\n",
    "    \n",
    "    year, month, day = [int(i) for i in date.split('-')]\n",
    "#     print year, month, day\n",
    "    future_date_list=[]\n",
    "    for i in future_month:\n",
    "        if float((month+i-12))/12>0:\n",
    "            new_year = year + (month+i-12)/12\n",
    "        else : \n",
    "            new_year = year\n",
    "        if (month+i)%12==0:\n",
    "            new_month = 12\n",
    "        else :\n",
    "            new_month = (month+i)%12\n",
    "#         print new_year, new_month, day, float((month+i))/12, (month+i)/12, i\n",
    "        future_date_list = future_date_list + [date_to_str(new_year, new_month, day)]\n",
    "    return future_date_list"
   ]
  },
  {
   "cell_type": "code",
   "execution_count": 5,
   "metadata": {},
   "outputs": [],
   "source": [
    "def date_to_str(year, month, day):\n",
    "    if month<10:\n",
    "        month = '0' + str(month)\n",
    "    else :\n",
    "        month = str(month)\n",
    "    if day<10:\n",
    "        day = '0' + str(day)\n",
    "    else :\n",
    "        day = str(day)\n",
    "    return str(year) + '-' + month + '-' + day"
   ]
  },
  {
   "cell_type": "code",
   "execution_count": 6,
   "metadata": {},
   "outputs": [],
   "source": [
    "# def split_data(x,index,forward=True):\n",
    "#     if forward :\n",
    "#         return x[:,:,:index]\n",
    "#     else :\n",
    "#         return x[:,:,index:]"
   ]
  },
  {
   "cell_type": "code",
   "execution_count": 1,
   "metadata": {},
   "outputs": [],
   "source": [
    "def split_data(x,index):\n",
    "    return x[:,:,index[0]:index[1]]"
   ]
  },
  {
   "cell_type": "code",
   "execution_count": 8,
   "metadata": {},
   "outputs": [],
   "source": [
    "# def history_data(data, env, history_length):\n",
    "#     d={'history_accumulation_return':env._history_accumulation_return,\n",
    "#        'history_action':env._history_action,\n",
    "#        'history_return':env._history_return,\n",
    "#        'history_diff':env._history_diff,\n",
    "#        'history_positionn':env._history_position}\n",
    "#     D=pd.DataFrame(d)\n",
    "#     history_data=pd.concat([data[history_length:].reset_index(drop=True),D],axis=1)\n",
    "#     return history_data"
   ]
  },
  {
   "cell_type": "code",
   "execution_count": 9,
   "metadata": {},
   "outputs": [],
   "source": [
    "def summary_result(data,action_list,trading_fee,last_day_sell=False):\n",
    "    data = data.reset_index(drop=True)\n",
    "    if last_day_sell==True:\n",
    "        data['action'] = action_list + [2]\n",
    "    else:\n",
    "        data['action'] = action_list\n",
    "    position=0\n",
    "    position_list = []\n",
    "    Return_list = []\n",
    "    Cumulative_Return = 0\n",
    "    Cumulative_Return_list = []\n",
    "    Diff_list = []\n",
    "    Cumulative_Diff = 0\n",
    "    Cumulative_Diff_list = []  \n",
    "    buy_price_list = []\n",
    "    for i in range(len(data)):\n",
    "        Return = 0\n",
    "        Diff = 0\n",
    "        if data.action[i]==1:\n",
    "            \n",
    "            buy_price_list.append(data.close[i]) \n",
    "            position += 1\n",
    "\n",
    "        elif (position>=1) and data.action[i]==2:\n",
    "            buy_price_mean = np.mean(buy_price_list)\n",
    "            sell_price = data.close[i]\n",
    "            Return = ( sell_price - buy_price_mean ) / buy_price_mean - trading_fee\n",
    "            Cumulative_Return = ( 1 + Cumulative_Return ) * ( 1 + Return ) - 1 \n",
    "            Diff = ( sell_price - buy_price_mean - buy_price_mean * trading_fee ) * position \n",
    "            Cumulative_Diff += Diff\n",
    "            position = 0\n",
    "            buy_price_list = []\n",
    "        position_list.append(position)\n",
    "        Return_list.append(Return)\n",
    "        Cumulative_Return_list.append(Cumulative_Return)\n",
    "        Diff_list.append(Diff)\n",
    "        Cumulative_Diff_list.append(Cumulative_Diff)\n",
    "    data['position'] = position_list\n",
    "    data['Return'] = Return_list\n",
    "    data['Cumulative_Return'] = Cumulative_Return_list\n",
    "    data['Diff'] = Diff_list\n",
    "    data['Cumulative_Diff'] = Cumulative_Diff_list\n",
    "    benchmark_buy_price = data.dropna().head(1).close.values[0]\n",
    "    benchmark_sell_price = data.dropna().tail(1).close.values[0]\n",
    "    benchmark_return = ( benchmark_sell_price - benchmark_buy_price ) / benchmark_buy_price - trading_fee\n",
    "    benchmark_diff = benchmark_sell_price - benchmark_buy_price - benchmark_buy_price * trading_fee\n",
    "    print 'benchmark buy price : ', benchmark_buy_price\n",
    "    print 'benchmark_sell_price : ', benchmark_sell_price\n",
    "    print 'benchmark_return : ', benchmark_return\n",
    "    print 'benchmark_diff : ', benchmark_diff\n",
    "    return data"
   ]
  }
 ],
 "metadata": {
  "kernelspec": {
   "display_name": "Python 2",
   "language": "python",
   "name": "python2"
  },
  "language_info": {
   "codemirror_mode": {
    "name": "ipython",
    "version": 2
   },
   "file_extension": ".py",
   "mimetype": "text/x-python",
   "name": "python",
   "nbconvert_exporter": "python",
   "pygments_lexer": "ipython2",
   "version": "2.7.12"
  },
  "varInspector": {
   "cols": {
    "lenName": 16,
    "lenType": 16,
    "lenVar": 40
   },
   "kernels_config": {
    "python": {
     "delete_cmd_postfix": "",
     "delete_cmd_prefix": "del ",
     "library": "var_list.py",
     "varRefreshCmd": "print(var_dic_list())"
    },
    "r": {
     "delete_cmd_postfix": ") ",
     "delete_cmd_prefix": "rm(",
     "library": "var_list.r",
     "varRefreshCmd": "cat(var_dic_list()) "
    }
   },
   "types_to_exclude": [
    "module",
    "function",
    "builtin_function_or_method",
    "instance",
    "_Feature"
   ],
   "window_display": false
  }
 },
 "nbformat": 4,
 "nbformat_minor": 2
}
