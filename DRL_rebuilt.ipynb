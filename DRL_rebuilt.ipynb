{
 "cells": [
  {
   "cell_type": "code",
   "execution_count": null,
   "metadata": {
    "scrolled": true
   },
   "outputs": [],
   "source": [
    "!nvidia-smi"
   ]
  },
  {
   "cell_type": "code",
   "execution_count": null,
   "metadata": {
    "colab": {
     "autoexec": {
      "startup": false,
      "wait_interval": 0
     }
    },
    "colab_type": "code",
    "id": "-NYRaWf2dbCF"
   },
   "outputs": [],
   "source": [
    "%run rl_rebuilt.ipynb\n",
    "%run env_rebuilt_simple.ipynb\n",
    "# %run env_final_reward_scale_2data.ipynb\n",
    "%run function.ipynb\n",
    "# %run backtest_paramters.ipynb\n",
    "%run model_rebuilt.ipynb\n",
    "import math\n",
    "import graphviz\n",
    "import tensorflow as tf \n",
    "from keras.models import Sequential, Model\n",
    "from keras.layers import Dense, Activation, Flatten, Convolution2D, Permute, LSTM, Input, Concatenate, Subtract, Reshape, Lambda, merge  ,GRU, ThresholdedReLU\n",
    "from keras.optimizers import Adam\n",
    "from rl.memory import SequentialMemory\n",
    "from rl.policy import LinearAnnealedPolicy, BoltzmannQPolicy, EpsGreedyQPolicy, BoltzmannGumbelQPolicy, GreedyQPolicy\n",
    "from keras.callbacks import TensorBoard\n",
    "import talib \n",
    "from IPython.display import SVG \n",
    "from keras.utils.vis_utils import model_to_dot\n",
    "import csv\n",
    "import random"
   ]
  },
  {
   "cell_type": "code",
   "execution_count": null,
   "metadata": {},
   "outputs": [],
   "source": [
    "\"\"\"\n",
    "DATA_NM : 資料名稱\n",
    "START_PRE_DATE : 開始預測時間\n",
    "HISTORY_LENGTH : 歷史資料需求長度\n",
    "TIME_DATA_LENGTH : 有時間效應之DATA長度\n",
    "NOT_TIME_DATA_LENGTH : 沒有時間效應之DATA長度\n",
    "TRADING_FEE : 交易手續費 (%)\n",
    "TIME_FEE : 時間消耗成本 (EX:定存利率)\n",
    "BUY_MIN_UNIT : 最少買進單位數\n",
    "EPISODE_LENGTH : 最多step數量\n",
    "NB_ACTIONS : 動作數量\n",
    "REWARD_COL : 計算獎勵欄位名稱\n",
    "MEMORY_LENGTH : 記憶庫裡資料的個數\n",
    "NB_STEPS_WARMUP : 一開始多少step後開始train network \n",
    "TRAIN_INTERVAL : 隔多少step後隨機抽取 batch 去 train\n",
    "MEMORY_INTERVL : 隔多少step後append memory\n",
    "TARGET_MODEL_UPDATE : 隔多少step後更新目標 network\n",
    "NN_CONSTRUCTION : network 架構\n",
    "POLICY : 決策方式\n",
    "value_max : random最大機率， value_min : random最小機率， value_test : 在test時候的random機率， nb_steps : 幾步之後從最大到最小\n",
    "BATCH_SIZE : 每次training抓取資料個數\n",
    "GAMMA : Q值得衰退因子\n",
    "\n",
    "file_nm : 存檔檔案名稱\n",
    "\"\"\"\n",
    "#DATA\n",
    "\n",
    "# DATA_NM = 'data/index_tsm_value.csv'\n",
    "DATA_NM = 'data/some_market_index_ts_value.csv'\n",
    "MONTH_DATA = 'data/index_tsm_value.csv'\n",
    "INDEX_NM = 'MSCI ACWI NET TOTAL RETURN USD'\n",
    "START_PRE_DATE = '2014-06-01'\n",
    "step = 2000000\n",
    "#ENV\n",
    "HISTORY_LENGTH = 48\n",
    "TRADING_FEE = 0.006\n",
    "TIME_FEE = 0.001\n",
    "EPISODE_LENGTH = 2000\n",
    "NB_ACTIONS = 3\n",
    "MIN_BUY_POSITION = 1\n",
    "MAX_POSITION = 1\n",
    "MA_WINDOWS=0\n",
    "if MA_WINDOWS > 0 :\n",
    "    REWARD_COL = INDEX_NM + '_MA'\n",
    "else :\n",
    "    REWARD_COL = INDEX_NM\n",
    "REWARD_SCALE = 1000\n",
    "PRICE_COL = INDEX_NM\n",
    "NN_INPUT_COL = INDEX_NM+'_Return'\n",
    "REWARD_GAMMA = 0.9\n",
    "DATA_NOR = False\n",
    "#MODEL\n",
    "RANDOM_TRAIN = True\n",
    "MEMORY_LENGTH = 20000\n",
    "MEMORY_ALPHA = 0.6\n",
    "MEMORY_BETA = 0.4\n",
    "MEMORY_ANNEALED = 25000\n",
    "NB_STEPS_WARMUP = 200\n",
    "TRAIN_INTERVAL = 1\n",
    "MEMORY_INTERVL = 1\n",
    "TARGET_MODEL_UPDATE = 100\n",
    "POLICY = LinearAnnealedPolicy(EpsGreedyQPolicy(),attr='eps',value_max=1.,value_min=.05,value_test=.00,nb_steps=500000)\n",
    "BATCH_SIZE = 32\n",
    "GAMMA = 0.9\n",
    "REWARD_STEP = range(1,7) #如果有加入趨式為最大的趨勢月份\n",
    "#flie name\n",
    "import datetime\n",
    "run_code_date = datetime.datetime.now().strftime(\"%Y-%m-%d\")\n",
    "file_nm = 'h5/'+ INDEX_NM +'/Rainbow_rebuilt_lump'+'_' + run_code_date \n"
   ]
  },
  {
   "cell_type": "code",
   "execution_count": null,
   "metadata": {
    "scrolled": true
   },
   "outputs": [],
   "source": [
    "# markets\n",
    "markets = pd.read_csv(DATA_NM,skiprows=1,names=['index_nm','tx_month','close'])\n",
    "markets = markets.loc[markets.index_nm==INDEX_NM,['tx_month','close']].rename(columns={'close':INDEX_NM})\n",
    "markets.tx_month = pd.to_datetime(markets.tx_month)\n",
    "if  MA_WINDOWS > 0 :\n",
    "    markets[INDEX_NM+'_MA'] = markets.loc[:,INDEX_NM]\\\n",
    "    .rolling(window=MA_WINDOWS).mean()\\\n",
    "    .shift(-1*int(math.floor(float(MA_WINDOWS)/2))).tolist()\n",
    "markets[INDEX_NM+'_Return'] = markets.loc[:,INDEX_NM] / markets.loc[:,INDEX_NM].shift(22)  - 1\n",
    "markets=markets.fillna(method='ffill').fillna(method='bfill')\n",
    "markets = markets.reset_index(drop=True)"
   ]
  },
  {
   "cell_type": "code",
   "execution_count": null,
   "metadata": {},
   "outputs": [],
   "source": [
    "# markets month\n",
    "markets_month = pd.read_csv(MONTH_DATA,skiprows=1,names=['index_nm','tx_month','close']).sort_values('tx_month')\n",
    "markets_month = markets_month.loc[markets_month.index_nm==INDEX_NM,['tx_month','close']].rename(columns={'close':INDEX_NM})\n",
    "markets_month.tx_month = pd.to_datetime(markets_month.tx_month)\n",
    "if  MA_WINDOWS > 0 :\n",
    "    markets_month[INDEX_NM+'_MA'] = markets_month.loc[:,INDEX_NM]\\\n",
    "    .rolling(window=MA_WINDOWS).mean()\\\n",
    "    .shift(-1*int(math.floor(float(MA_WINDOWS)/2))).tolist()\n",
    "markets_month[INDEX_NM+'_Return'] = markets_month.loc[:,INDEX_NM]/ markets_month.loc[:,INDEX_NM].shift(1)  - 1\n",
    "markets_month = markets_month.fillna(method='ffill').fillna(method='bfill')\n",
    "markets_month = markets_month.reset_index(drop=True)\n"
   ]
  },
  {
   "cell_type": "code",
   "execution_count": null,
   "metadata": {},
   "outputs": [],
   "source": [
    "train_data_list=[]\n",
    "test_data_list=[]\n",
    "for i in range(22):\n",
    "    monthly = data_row_gap(data=markets[i:],gap=22,miss_fill='ffill').reset_index()\n",
    "    train_data,test_data = split_train_test_data(data=monthly, start_pre_date=START_PRE_DATE, \n",
    "                                                 history_length=HISTORY_LENGTH, trend_months=REWARD_STEP)\n",
    "    train_data_list.append(train_data)\n",
    "    test_data_list.append(test_data) "
   ]
  },
  {
   "cell_type": "code",
   "execution_count": null,
   "metadata": {},
   "outputs": [],
   "source": [
    "train_data_month,test_data_month = split_train_test_data(data=markets_month, start_pre_date=START_PRE_DATE, \n",
    "                                             history_length=HISTORY_LENGTH, trend_months=REWARD_STEP)"
   ]
  },
  {
   "cell_type": "code",
   "execution_count": null,
   "metadata": {
    "colab": {
     "autoexec": {
      "startup": false,
      "wait_interval": 0
     }
    },
    "colab_type": "code",
    "id": "75taN3fH7W6Z",
    "scrolled": true
   },
   "outputs": [],
   "source": [
    "no_time_var_list = []\n",
    "var_list = [NN_INPUT_COL]\n",
    "# var_list=name_list\n",
    "TIME_VAR = len(var_list)\n",
    "TIME_DATA_LENGTH = HISTORY_LENGTH*TIME_VAR\n",
    "NOT_TIME_DATA_LENGTH = 2 +len(no_time_var_list)\n",
    "data_list_col = np.unique(var_list+no_time_var_list+[REWARD_COL]+[PRICE_COL]).tolist()\n",
    "# train_data_list=[train_data_list[0]]\n",
    "params={'reward_step':[1], 'data_nor':False,\n",
    "        'min_buy_position':1,'cash_raise':1000,'cash_start':3000, 'max_position':float('inf'), 'episode_length':1000,\n",
    "        'trading_fee':0, 'time_fee':0, 'history_length':12,'StandardScaler_list':None,'train_lab':False,\n",
    "        'data_list':[i.loc[:,data_list_col].fillna(0) for i in train_data_list],\n",
    "        'trading_fee':TRADING_FEE,\n",
    "        'time_fee':TIME_FEE,\n",
    "        'history_length':HISTORY_LENGTH,\n",
    "        'episode_length':EPISODE_LENGTH, \n",
    "        'min_buy_position':MIN_BUY_POSITION,\n",
    "        'max_position':MAX_POSITION,\n",
    "        'reward_col':REWARD_COL,\n",
    "        'data_nor':DATA_NOR,\n",
    "        'reward_step':REWARD_STEP,\n",
    "        'reward_gamma':REWARD_GAMMA,\n",
    "        'train_lab':RANDOM_TRAIN,\n",
    "        'price_col':PRICE_COL,   \n",
    "        'time_var_nm' : var_list,\n",
    "        'nn_input_col': [NN_INPUT_COL],\n",
    "        'no_time_var_nm' : no_time_var_list,\n",
    "        'reward_scale' : REWARD_SCALE\n",
    "       }\n",
    "train_env = SpreadTrading_simple(params)\n",
    "\n",
    "check_data = []\n",
    "for investment_month in [36]:\n",
    "    data_start_index = 0\n",
    "    if REWARD_STEP:\n",
    "        more_data_len = max(REWARD_STEP) + HISTORY_LENGTH + investment_month-1\n",
    "    else :\n",
    "        more_data_len = HISTORY_LENGTH + investment_month-1\n",
    "    while data_start_index + more_data_len < len(train_data_month):\n",
    "        check_data.append( train_data_month.loc[data_start_index:(data_start_index + more_data_len),data_list_col].reset_index(drop=True))\n",
    "        data_start_index += 1 \n",
    "SS=StandardScaler()\n",
    "SS.fit(train_data_month.loc[:,[NN_INPUT_COL]])\n",
    "check_params = params.copy()\n",
    "check_params['data_list'] = check_data\n",
    "check_params['StandardScaler_list'] = [SS]*len(check_data)\n",
    "check_params['train_lab'] = False\n",
    "train_check_env = SpreadTrading_simple(check_params)\n"
   ]
  },
  {
   "cell_type": "code",
   "execution_count": null,
   "metadata": {
    "colab": {
     "autoexec": {
      "startup": false,
      "wait_interval": 0
     }
    },
    "colab_type": "code",
    "id": "eDxC_Qgd7g4P",
    "scrolled": true
   },
   "outputs": [],
   "source": [
    "seed = 1337\n",
    "for MEMORY_BETA in [0.2,0.4,0.6]:\n",
    "    np.random.seed(seed)\n",
    "    random.seed(seed)\n",
    "    drl=DRL(history_length=HISTORY_LENGTH, file_nm= (file_nm+'_MEMORY_BETA_{}').format(MEMORY_BETA), \\\n",
    "            time_var=TIME_VAR, time_data_length=TIME_DATA_LENGTH, \\\n",
    "            not_time_data_length=NOT_TIME_DATA_LENGTH, nb_actions=NB_ACTIONS\\\n",
    "           )\n",
    "    print step\n",
    "    print INDEX_NM\n",
    "    dqn=drl.RL_method(env=train_env,check_env=train_check_env, step=step\n",
    "                      , memory_length=MEMORY_LENGTH,train_interval=TRAIN_INTERVAL,\\\n",
    "                      policy=POLICY, nb_steps_warmup=NB_STEPS_WARMUP,\\\n",
    "                      alpha=MEMORY_ALPHA,beta=MEMORY_BETA,beta_annealed=MEMORY_ANNEALED\\\n",
    "                      , batch_size=BATCH_SIZE, gamma=GAMMA, target_model_update=TARGET_MODEL_UPDATE)"
   ]
  },
  {
   "cell_type": "code",
   "execution_count": null,
   "metadata": {},
   "outputs": [],
   "source": [
    "file_nm"
   ]
  },
  {
   "cell_type": "code",
   "execution_count": null,
   "metadata": {},
   "outputs": [],
   "source": [
    "a=[1626.47998046875,1753.9100341796875, 1379.8199462890625, 1497.6199951171875]\n",
    "b=[a[i+1]/a[i]-1 for i in range(len(a)-1)]\n",
    "b"
   ]
  },
  {
   "cell_type": "code",
   "execution_count": null,
   "metadata": {},
   "outputs": [],
   "source": [
    "A=[1677.4300537109375, 1973.0, 1929.6400146484373]\n",
    "B=1880.1700439453125\n",
    "C=[i/B-1 for i in A]\n",
    "D=0.9\n",
    "D*C[0]+D**2*(C[1]-C[0])+D**3*(C[2]-C[1])-0.006"
   ]
  },
  {
   "cell_type": "code",
   "execution_count": null,
   "metadata": {},
   "outputs": [],
   "source": [
    "1677.4300537109375"
   ]
  }
 ],
 "metadata": {
  "accelerator": "GPU",
  "colab": {
   "default_view": {},
   "name": "for_joyce.ipynb",
   "provenance": [],
   "version": "0.3.2",
   "views": {}
  },
  "kernelspec": {
   "display_name": "Python 2",
   "language": "python",
   "name": "python2"
  },
  "language_info": {
   "codemirror_mode": {
    "name": "ipython",
    "version": 2
   },
   "file_extension": ".py",
   "mimetype": "text/x-python",
   "name": "python",
   "nbconvert_exporter": "python",
   "pygments_lexer": "ipython2",
   "version": "2.7.12"
  },
  "varInspector": {
   "cols": {
    "lenName": 16,
    "lenType": 16,
    "lenVar": 40
   },
   "kernels_config": {
    "python": {
     "delete_cmd_postfix": "",
     "delete_cmd_prefix": "del ",
     "library": "var_list.py",
     "varRefreshCmd": "print(var_dic_list())"
    },
    "r": {
     "delete_cmd_postfix": ") ",
     "delete_cmd_prefix": "rm(",
     "library": "var_list.r",
     "varRefreshCmd": "cat(var_dic_list()) "
    }
   },
   "position": {
    "height": "144px",
    "left": "910px",
    "right": "20px",
    "top": "121px",
    "width": "350px"
   },
   "types_to_exclude": [
    "module",
    "function",
    "builtin_function_or_method",
    "instance",
    "_Feature"
   ],
   "window_display": false
  }
 },
 "nbformat": 4,
 "nbformat_minor": 1
}
